{
 "cells": [
  {
   "cell_type": "code",
   "execution_count": 1,
   "id": "0a6959f7-3627-44a2-a773-79bf804e540e",
   "metadata": {},
   "outputs": [
    {
     "name": "stdin",
     "output_type": "stream",
     "text": [
      "> start\n"
     ]
    },
    {
     "name": "stdout",
     "output_type": "stream",
     "text": [
      "car started.....\n"
     ]
    },
    {
     "name": "stdin",
     "output_type": "stream",
     "text": [
      "> stop\n"
     ]
    },
    {
     "name": "stdout",
     "output_type": "stream",
     "text": [
      "car stoped!....\n"
     ]
    },
    {
     "name": "stdin",
     "output_type": "stream",
     "text": [
      "> help\n"
     ]
    },
    {
     "name": "stdout",
     "output_type": "stream",
     "text": [
      "sorry , i didn't understand that! \n"
     ]
    },
    {
     "name": "stdin",
     "output_type": "stream",
     "text": [
      "> quit\n"
     ]
    }
   ],
   "source": [
    "# car game Program\n",
    "command=\"\"\n",
    "started=False\n",
    "while True:\n",
    "    command=input(\">\").lower()\n",
    "    if command==\"start\":\n",
    "        if started:\n",
    "            print(\"car is already started! \")\n",
    "        else:\n",
    "            started=True\n",
    "            print(\"car started.....\")     \n",
    "    elif command==\"stop\":\n",
    "        if not started:\n",
    "            print(\"car is already stopped!\")     \n",
    "        else:\n",
    "            started=False\n",
    "            print(\"car stoped!....\")\n",
    "    elif command==\"Help\":\n",
    "        print(\"\"\"\n",
    "             start_to start the car\n",
    "             stop_to top the car\n",
    "             quit_to quit\n",
    "             \"\"\")\n",
    "    elif command==\"quit\":\n",
    "        break\n",
    "    else:\n",
    "        print(\"sorry , i didn't understand that! \")       "
   ]
  },
  {
   "cell_type": "code",
   "execution_count": null,
   "id": "eaea69a9-dcdb-4c8f-ac27-d4df91546963",
   "metadata": {},
   "outputs": [
    {
     "name": "stdout",
     "output_type": "stream",
     "text": [
      "Welcome to the PyPassword Generator!\n"
     ]
    }
   ],
   "source": [
    "print(\"Welcome to the PyPassword Generator!\")\n",
    "nr_letters= input(\"How many letters would you like in your password?\\n\")\n",
    "if nr_letters.isnumeric():\n",
    "  nr_letters = int(nr_letters)\n",
    "  nr_symbols = input(\"How many symbols would you like?\\n\")\n",
    "  if nr_symbols.isnumeric():\n",
    "    nr_symbols = int(nr_symbols)\n",
    "    nr_numbers = input(\"How many numbers would you like?\\n\")\n",
    "    if nr_numbers.isnumeric():\n",
    "      nr_numbers = int(nr_numbers)\n",
    "    else:\n",
    "     print(\"Enter Numerical Value for, 'How many numbers would you like?'\")\n",
    "  else:\n",
    "    print(\"Enter Numerical Value for, 'How many symbols would you like?'\")\n",
    "else:\n",
    "  print(\"Enter Numerical Value for, 'How many letters would you like in your password?'\")\n",
    "  password = ''\n",
    "for i in range(nr_letters):\n",
    "    password += random.choice(letters)\n",
    "for i in range(nr_symbols):\n",
    "    password += random.choice(symbols)\n",
    "for i in range(nr_numbers):\n",
    "    password += random.choice(numbers)\n",
    "\n",
    "\n",
    "mylist = list(password)\n",
    "random.shuffle(mylist)\n",
    "output_password = ''.join(mylist)\n",
    "\n",
    "print(f\"\\n\\nYour Password is {output_password}\")"
   ]
  },
  {
   "cell_type": "code",
   "execution_count": null,
   "id": "9bd96cc1-b5f3-4d1a-831b-a761ef23bbd8",
   "metadata": {},
   "outputs": [],
   "source": []
  }
 ],
 "metadata": {
  "kernelspec": {
   "display_name": "Python 3 (ipykernel)",
   "language": "python",
   "name": "python3"
  },
  "language_info": {
   "codemirror_mode": {
    "name": "ipython",
    "version": 3
   },
   "file_extension": ".py",
   "mimetype": "text/x-python",
   "name": "python",
   "nbconvert_exporter": "python",
   "pygments_lexer": "ipython3",
   "version": "3.11.7"
  }
 },
 "nbformat": 4,
 "nbformat_minor": 5
}
